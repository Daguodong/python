{
 "cells": [
  {
   "cell_type": "markdown",
   "metadata": {},
   "source": [
    "循环代码优化\n",
    "1、尽量减少内部不必要的计算\n",
    "2、嵌套循环中，尽量减少内循环的计算\n",
    "3、局部变量查询较快，尽量使用局部变量"
   ]
  },
  {
   "cell_type": "code",
   "execution_count": 1,
   "metadata": {},
   "outputs": [
    {
     "name": "stdout",
     "output_type": "stream",
     "text": [
      "耗时:1.8011789321899414\n",
      "耗时:1.4598913192749023\n"
     ]
    }
   ],
   "source": [
    "import time\n",
    "\n",
    "start =time.time()\n",
    "for i in range(1000):\n",
    "    result=[]\n",
    "    for m in range(10000):\n",
    "        result.append(i*1000+m*100)\n",
    "\n",
    "end=time.time()\n",
    "print(\"耗时:{}\".format(end-start))\n",
    "\n",
    "\n",
    "start2 =time.time()\n",
    "for i in range(1000):\n",
    "    result=[]\n",
    "    c=i*1000\n",
    "    for m in range(10000):\n",
    "        result.append(c+m*100)\n",
    "\n",
    "end2=time.time()\n",
    "print(\"耗时:{}\".format(end2-start2))"
   ]
  },
  {
   "cell_type": "code",
   "execution_count": null,
   "metadata": {},
   "outputs": [],
   "source": []
  }
 ],
 "metadata": {
  "kernelspec": {
   "display_name": "Python 3",
   "language": "python",
   "name": "python3"
  },
  "language_info": {
   "codemirror_mode": {
    "name": "ipython",
    "version": 3
   },
   "file_extension": ".py",
   "mimetype": "text/x-python",
   "name": "python",
   "nbconvert_exporter": "python",
   "pygments_lexer": "ipython3",
   "version": "3.6.5"
  }
 },
 "nbformat": 4,
 "nbformat_minor": 2
}
